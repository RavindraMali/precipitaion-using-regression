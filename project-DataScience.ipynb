{
 "cells": [
  {
   "cell_type": "code",
   "execution_count": 1,
   "metadata": {},
   "outputs": [],
   "source": [
    "# Importing Packages.\n",
    "import matplotlib.pyplot as plt\n",
    "import pandas as pd\n",
    "import pylab as pl\n",
    "import numpy as np\n",
    "import warnings\n",
    "warnings.filterwarnings('ignore')"
   ]
  },
  {
   "cell_type": "code",
   "execution_count": 2,
   "metadata": {},
   "outputs": [],
   "source": [
    "# function for title\n",
    "def show_title(title):\n",
    "        for i in range(1,50):\n",
    "            if(i==25):\n",
    "                print(\"| \",title,\" |\",end=\"\")\n",
    "            else:\n",
    "                print(\":\",end=\"\")\n",
    "        print(\"\")"
   ]
  },
  {
   "cell_type": "code",
   "execution_count": 3,
   "metadata": {},
   "outputs": [
    {
     "name": "stdout",
     "output_type": "stream",
     "text": [
      "::::::::::::::::::::::::|  SHAPE OF RECORDS  |::::::::::::::::::::::::\n",
      "\n",
      "\t\t\t(Rows,columns) =  (21464, 6)\n"
     ]
    }
   ],
   "source": [
    "# Reading the Data from Database records.csv\n",
    "file=\"records.csv\"\n",
    "df = pd.read_csv(file)\n",
    "# View  the dataset\n",
    "show_title(\"SHAPE OF RECORDS\")\n",
    "print(\"\\n\\t\\t\\t(Rows,columns) = \",df.shape)"
   ]
  },
  {
   "cell_type": "code",
   "execution_count": 4,
   "metadata": {},
   "outputs": [
    {
     "name": "stdout",
     "output_type": "stream",
     "text": [
      "::::::::::::::::::::::::|  First Five Rows Of records  |::::::::::::::::::::::::\n"
     ]
    },
    {
     "data": {
      "text/html": [
       "<div>\n",
       "<style scoped>\n",
       "    .dataframe tbody tr th:only-of-type {\n",
       "        vertical-align: middle;\n",
       "    }\n",
       "\n",
       "    .dataframe tbody tr th {\n",
       "        vertical-align: top;\n",
       "    }\n",
       "\n",
       "    .dataframe thead th {\n",
       "        text-align: right;\n",
       "    }\n",
       "</style>\n",
       "<table border=\"1\" class=\"dataframe\">\n",
       "  <thead>\n",
       "    <tr style=\"text-align: right;\">\n",
       "      <th></th>\n",
       "      <th>Station_number</th>\n",
       "      <th>Observation_time</th>\n",
       "      <th>Showalter_index</th>\n",
       "      <th>Lifted_index</th>\n",
       "      <th>SWEAT_index</th>\n",
       "      <th>Precipitable_water_mm_for_entire_sounding</th>\n",
       "    </tr>\n",
       "  </thead>\n",
       "  <tbody>\n",
       "    <tr>\n",
       "      <th>0</th>\n",
       "      <td>42647</td>\n",
       "      <td>180320/1200</td>\n",
       "      <td>5.24</td>\n",
       "      <td>6.19</td>\n",
       "      <td>104.40</td>\n",
       "      <td>17.86</td>\n",
       "    </tr>\n",
       "    <tr>\n",
       "      <th>1</th>\n",
       "      <td>42647</td>\n",
       "      <td>180321/0000</td>\n",
       "      <td>5.79</td>\n",
       "      <td>8.43</td>\n",
       "      <td>105.21</td>\n",
       "      <td>16.44</td>\n",
       "    </tr>\n",
       "    <tr>\n",
       "      <th>2</th>\n",
       "      <td>42647</td>\n",
       "      <td>180321/1200</td>\n",
       "      <td>0.75</td>\n",
       "      <td>1.49</td>\n",
       "      <td>154.21</td>\n",
       "      <td>21.42</td>\n",
       "    </tr>\n",
       "    <tr>\n",
       "      <th>3</th>\n",
       "      <td>42647</td>\n",
       "      <td>180322/0000</td>\n",
       "      <td>3.26</td>\n",
       "      <td>5.82</td>\n",
       "      <td>155.39</td>\n",
       "      <td>17.1</td>\n",
       "    </tr>\n",
       "    <tr>\n",
       "      <th>4</th>\n",
       "      <td>42647</td>\n",
       "      <td>170901/0000</td>\n",
       "      <td>6.02</td>\n",
       "      <td>3.61</td>\n",
       "      <td>259.81</td>\n",
       "      <td>56.65</td>\n",
       "    </tr>\n",
       "  </tbody>\n",
       "</table>\n",
       "</div>"
      ],
      "text/plain": [
       "   Station_number Observation_time  Showalter_index  Lifted_index  \\\n",
       "0           42647      180320/1200             5.24          6.19   \n",
       "1           42647      180321/0000             5.79          8.43   \n",
       "2           42647      180321/1200             0.75          1.49   \n",
       "3           42647      180322/0000             3.26          5.82   \n",
       "4           42647      170901/0000             6.02          3.61   \n",
       "\n",
       "   SWEAT_index Precipitable_water_mm_for_entire_sounding  \n",
       "0       104.40                                     17.86  \n",
       "1       105.21                                     16.44  \n",
       "2       154.21                                     21.42  \n",
       "3       155.39                                      17.1  \n",
       "4       259.81                                     56.65  "
      ]
     },
     "execution_count": 4,
     "metadata": {},
     "output_type": "execute_result"
    }
   ],
   "source": [
    "show_title(\"First Five Rows Of records\")\n",
    "df.head()"
   ]
  },
  {
   "cell_type": "code",
   "execution_count": 5,
   "metadata": {},
   "outputs": [
    {
     "name": "stdout",
     "output_type": "stream",
     "text": [
      "::::::::::::::::::::::::|  Data Information  |::::::::::::::::::::::::\n",
      "<class 'pandas.core.frame.DataFrame'>\n",
      "RangeIndex: 21464 entries, 0 to 21463\n",
      "Data columns (total 6 columns):\n",
      " #   Column                                     Non-Null Count  Dtype  \n",
      "---  ------                                     --------------  -----  \n",
      " 0   Station_number                             21464 non-null  int64  \n",
      " 1   Observation_time                           21464 non-null  object \n",
      " 2   Showalter_index                            18940 non-null  float64\n",
      " 3   Lifted_index                               20827 non-null  float64\n",
      " 4   SWEAT_index                                13957 non-null  float64\n",
      " 5   Precipitable_water_mm_for_entire_sounding  21388 non-null  object \n",
      "dtypes: float64(3), int64(1), object(2)\n",
      "memory usage: 1006.2+ KB\n"
     ]
    }
   ],
   "source": [
    "show_title(\"Data Information\")\n",
    "df.info()"
   ]
  },
  {
   "cell_type": "code",
   "execution_count": 6,
   "metadata": {},
   "outputs": [
    {
     "name": "stdout",
     "output_type": "stream",
     "text": [
      "::::::::::::::::::::::::|  Datatypes  |::::::::::::::::::::::::\n",
      "Station_number                                 int64\n",
      "Observation_time                              object\n",
      "Showalter_index                              float64\n",
      "Lifted_index                                 float64\n",
      "SWEAT_index                                  float64\n",
      "Precipitable_water_mm_for_entire_sounding     object\n",
      "dtype: object\n"
     ]
    }
   ],
   "source": [
    "show_title(\"Datatypes\")\n",
    "print(df.dtypes)"
   ]
  },
  {
   "cell_type": "code",
   "execution_count": 7,
   "metadata": {},
   "outputs": [
    {
     "name": "stdout",
     "output_type": "stream",
     "text": [
      "::::::::::::::::::::::::|  Column names after Rename  |::::::::::::::::::::::::\n",
      "stn_no\n",
      "obsrve\n",
      "showalter\n",
      "lifted\n",
      "sweat\n",
      "precipitable\n"
     ]
    }
   ],
   "source": [
    "column_names={'Precipitable_water_mm_for_entire_sounding':'precipitable','Station_number':'stn_no','Observation_time':'obsrve','Showalter_index':'showalter','Lifted_index':'lifted','SWEAT_index':'sweat'}\n",
    "df=df.rename(columns=column_names)\n",
    "show_title(\"Column names after Rename\")\n",
    "for i in df:\n",
    "    print(i)"
   ]
  },
  {
   "cell_type": "code",
   "execution_count": 8,
   "metadata": {},
   "outputs": [
    {
     "name": "stdout",
     "output_type": "stream",
     "text": [
      "::::::::::::::::::::::::|  After Type Casting  |::::::::::::::::::::::::\n"
     ]
    },
    {
     "data": {
      "text/plain": [
       "stn_no            int64\n",
       "obsrve           object\n",
       "showalter       float64\n",
       "lifted          float64\n",
       "sweat           float64\n",
       "precipitable    float64\n",
       "dtype: object"
      ]
     },
     "execution_count": 8,
     "metadata": {},
     "output_type": "execute_result"
    }
   ],
   "source": [
    "df['precipitable']=pd.to_numeric(df['precipitable'],errors='coerce')\n",
    "show_title(\"After Type Casting\")\n",
    "df.dtypes"
   ]
  },
  {
   "cell_type": "code",
   "execution_count": 9,
   "metadata": {},
   "outputs": [
    {
     "name": "stdout",
     "output_type": "stream",
     "text": [
      "::::::::::::::::::::::::|  Empty Column Records  |::::::::::::::::::::::::\n",
      "\n",
      "\tTrue indicate column contains Empty cell\n",
      "\n",
      "\tFalse indicate no empty cell\n"
     ]
    },
    {
     "data": {
      "text/plain": [
       "stn_no          False\n",
       "obsrve          False\n",
       "showalter        True\n",
       "lifted           True\n",
       "sweat            True\n",
       "precipitable     True\n",
       "dtype: bool"
      ]
     },
     "execution_count": 9,
     "metadata": {},
     "output_type": "execute_result"
    }
   ],
   "source": [
    "show_title(\"Empty Column Records\")\n",
    "print(\"\\n\\tTrue indicate column contains Empty cell\\n\\n\\tFalse indicate no empty cell\")\n",
    "df.isnull().any()"
   ]
  },
  {
   "cell_type": "code",
   "execution_count": 10,
   "metadata": {},
   "outputs": [
    {
     "name": "stdout",
     "output_type": "stream",
     "text": [
      "::::::::::::::::::::::::|  Column wise Empty Cell  |::::::::::::::::::::::::\n"
     ]
    },
    {
     "data": {
      "text/plain": [
       "stn_no             0\n",
       "obsrve             0\n",
       "showalter       2524\n",
       "lifted           637\n",
       "sweat           7507\n",
       "precipitable      77\n",
       "dtype: int64"
      ]
     },
     "execution_count": 10,
     "metadata": {},
     "output_type": "execute_result"
    }
   ],
   "source": [
    "show_title(\"Column wise Empty Cell\")\n",
    "df.isnull().sum()"
   ]
  },
  {
   "cell_type": "code",
   "execution_count": 11,
   "metadata": {},
   "outputs": [
    {
     "name": "stdout",
     "output_type": "stream",
     "text": [
      "::::::::::::::::::::::::|  Discription of data  |::::::::::::::::::::::::\n"
     ]
    },
    {
     "data": {
      "text/html": [
       "<div>\n",
       "<style scoped>\n",
       "    .dataframe tbody tr th:only-of-type {\n",
       "        vertical-align: middle;\n",
       "    }\n",
       "\n",
       "    .dataframe tbody tr th {\n",
       "        vertical-align: top;\n",
       "    }\n",
       "\n",
       "    .dataframe thead th {\n",
       "        text-align: right;\n",
       "    }\n",
       "</style>\n",
       "<table border=\"1\" class=\"dataframe\">\n",
       "  <thead>\n",
       "    <tr style=\"text-align: right;\">\n",
       "      <th></th>\n",
       "      <th>stn_no</th>\n",
       "      <th>showalter</th>\n",
       "      <th>lifted</th>\n",
       "      <th>sweat</th>\n",
       "      <th>precipitable</th>\n",
       "    </tr>\n",
       "  </thead>\n",
       "  <tbody>\n",
       "    <tr>\n",
       "      <th>count</th>\n",
       "      <td>21464.0</td>\n",
       "      <td>18940.000000</td>\n",
       "      <td>20827.000000</td>\n",
       "      <td>13957.000000</td>\n",
       "      <td>21387.000000</td>\n",
       "    </tr>\n",
       "    <tr>\n",
       "      <th>mean</th>\n",
       "      <td>42647.0</td>\n",
       "      <td>4.330506</td>\n",
       "      <td>2.853156</td>\n",
       "      <td>165.709708</td>\n",
       "      <td>39.744277</td>\n",
       "    </tr>\n",
       "    <tr>\n",
       "      <th>std</th>\n",
       "      <td>0.0</td>\n",
       "      <td>8.097862</td>\n",
       "      <td>9.189146</td>\n",
       "      <td>165.832427</td>\n",
       "      <td>223.135088</td>\n",
       "    </tr>\n",
       "    <tr>\n",
       "      <th>min</th>\n",
       "      <td>42647.0</td>\n",
       "      <td>-88.930000</td>\n",
       "      <td>-93.120000</td>\n",
       "      <td>0.520000</td>\n",
       "      <td>-2443.830000</td>\n",
       "    </tr>\n",
       "    <tr>\n",
       "      <th>25%</th>\n",
       "      <td>42647.0</td>\n",
       "      <td>-0.300000</td>\n",
       "      <td>-2.725000</td>\n",
       "      <td>68.580000</td>\n",
       "      <td>14.640000</td>\n",
       "    </tr>\n",
       "    <tr>\n",
       "      <th>50%</th>\n",
       "      <td>42647.0</td>\n",
       "      <td>3.720000</td>\n",
       "      <td>1.450000</td>\n",
       "      <td>141.400000</td>\n",
       "      <td>25.790000</td>\n",
       "    </tr>\n",
       "    <tr>\n",
       "      <th>75%</th>\n",
       "      <td>42647.0</td>\n",
       "      <td>8.640000</td>\n",
       "      <td>7.680000</td>\n",
       "      <td>233.400000</td>\n",
       "      <td>46.340000</td>\n",
       "    </tr>\n",
       "    <tr>\n",
       "      <th>max</th>\n",
       "      <td>42647.0</td>\n",
       "      <td>111.010000</td>\n",
       "      <td>157.160000</td>\n",
       "      <td>3928.860000</td>\n",
       "      <td>6293.000000</td>\n",
       "    </tr>\n",
       "  </tbody>\n",
       "</table>\n",
       "</div>"
      ],
      "text/plain": [
       "        stn_no     showalter        lifted         sweat  precipitable\n",
       "count  21464.0  18940.000000  20827.000000  13957.000000  21387.000000\n",
       "mean   42647.0      4.330506      2.853156    165.709708     39.744277\n",
       "std        0.0      8.097862      9.189146    165.832427    223.135088\n",
       "min    42647.0    -88.930000    -93.120000      0.520000  -2443.830000\n",
       "25%    42647.0     -0.300000     -2.725000     68.580000     14.640000\n",
       "50%    42647.0      3.720000      1.450000    141.400000     25.790000\n",
       "75%    42647.0      8.640000      7.680000    233.400000     46.340000\n",
       "max    42647.0    111.010000    157.160000   3928.860000   6293.000000"
      ]
     },
     "execution_count": 11,
     "metadata": {},
     "output_type": "execute_result"
    }
   ],
   "source": [
    "# shows discription of data (mean median IQR min value max value )\n",
    "show_title(\"Discription of data\")\n",
    "df.describe()"
   ]
  },
  {
   "cell_type": "code",
   "execution_count": 12,
   "metadata": {},
   "outputs": [
    {
     "name": "stdout",
     "output_type": "stream",
     "text": [
      "::::::::::::::::::::::::|  Data wrangling  |::::::::::::::::::::::::\n",
      "\n",
      "\tUsing numpy NaN object\n"
     ]
    }
   ],
   "source": [
    "show_title(\"Data wrangling\")\n",
    "print(\"\\n\\tUsing numpy NaN object\")"
   ]
  },
  {
   "cell_type": "code",
   "execution_count": 13,
   "metadata": {},
   "outputs": [
    {
     "data": {
      "text/html": [
       "<div>\n",
       "<style scoped>\n",
       "    .dataframe tbody tr th:only-of-type {\n",
       "        vertical-align: middle;\n",
       "    }\n",
       "\n",
       "    .dataframe tbody tr th {\n",
       "        vertical-align: top;\n",
       "    }\n",
       "\n",
       "    .dataframe thead th {\n",
       "        text-align: right;\n",
       "    }\n",
       "</style>\n",
       "<table border=\"1\" class=\"dataframe\">\n",
       "  <thead>\n",
       "    <tr style=\"text-align: right;\">\n",
       "      <th></th>\n",
       "      <th>showalter</th>\n",
       "      <th>lifted</th>\n",
       "      <th>sweat</th>\n",
       "      <th>precipitable</th>\n",
       "    </tr>\n",
       "  </thead>\n",
       "  <tbody>\n",
       "    <tr>\n",
       "      <th>0</th>\n",
       "      <td>5.24</td>\n",
       "      <td>6.19</td>\n",
       "      <td>104.40</td>\n",
       "      <td>17.86</td>\n",
       "    </tr>\n",
       "    <tr>\n",
       "      <th>1</th>\n",
       "      <td>5.79</td>\n",
       "      <td>8.43</td>\n",
       "      <td>105.21</td>\n",
       "      <td>16.44</td>\n",
       "    </tr>\n",
       "    <tr>\n",
       "      <th>2</th>\n",
       "      <td>0.75</td>\n",
       "      <td>1.49</td>\n",
       "      <td>154.21</td>\n",
       "      <td>21.42</td>\n",
       "    </tr>\n",
       "    <tr>\n",
       "      <th>3</th>\n",
       "      <td>3.26</td>\n",
       "      <td>5.82</td>\n",
       "      <td>155.39</td>\n",
       "      <td>17.10</td>\n",
       "    </tr>\n",
       "    <tr>\n",
       "      <th>4</th>\n",
       "      <td>6.02</td>\n",
       "      <td>3.61</td>\n",
       "      <td>259.81</td>\n",
       "      <td>56.65</td>\n",
       "    </tr>\n",
       "    <tr>\n",
       "      <th>...</th>\n",
       "      <td>...</td>\n",
       "      <td>...</td>\n",
       "      <td>...</td>\n",
       "      <td>...</td>\n",
       "    </tr>\n",
       "    <tr>\n",
       "      <th>21459</th>\n",
       "      <td>NaN</td>\n",
       "      <td>NaN</td>\n",
       "      <td>NaN</td>\n",
       "      <td>9.68</td>\n",
       "    </tr>\n",
       "    <tr>\n",
       "      <th>21460</th>\n",
       "      <td>10.64</td>\n",
       "      <td>7.26</td>\n",
       "      <td>22.01</td>\n",
       "      <td>13.82</td>\n",
       "    </tr>\n",
       "    <tr>\n",
       "      <th>21461</th>\n",
       "      <td>5.94</td>\n",
       "      <td>-2.08</td>\n",
       "      <td>42.98</td>\n",
       "      <td>23.55</td>\n",
       "    </tr>\n",
       "    <tr>\n",
       "      <th>21462</th>\n",
       "      <td>4.03</td>\n",
       "      <td>6.27</td>\n",
       "      <td>39.98</td>\n",
       "      <td>16.54</td>\n",
       "    </tr>\n",
       "    <tr>\n",
       "      <th>21463</th>\n",
       "      <td>5.28</td>\n",
       "      <td>0.84</td>\n",
       "      <td>43.01</td>\n",
       "      <td>19.10</td>\n",
       "    </tr>\n",
       "  </tbody>\n",
       "</table>\n",
       "<p>21464 rows × 4 columns</p>\n",
       "</div>"
      ],
      "text/plain": [
       "       showalter  lifted   sweat  precipitable\n",
       "0           5.24    6.19  104.40         17.86\n",
       "1           5.79    8.43  105.21         16.44\n",
       "2           0.75    1.49  154.21         21.42\n",
       "3           3.26    5.82  155.39         17.10\n",
       "4           6.02    3.61  259.81         56.65\n",
       "...          ...     ...     ...           ...\n",
       "21459        NaN     NaN     NaN          9.68\n",
       "21460      10.64    7.26   22.01         13.82\n",
       "21461       5.94   -2.08   42.98         23.55\n",
       "21462       4.03    6.27   39.98         16.54\n",
       "21463       5.28    0.84   43.01         19.10\n",
       "\n",
       "[21464 rows x 4 columns]"
      ]
     },
     "execution_count": 13,
     "metadata": {},
     "output_type": "execute_result"
    }
   ],
   "source": [
    "cdf=df[[\"stn_no\",\"showalter\",\"lifted\",\"sweat\",\"precipitable\"]]\n",
    "actual_data=cdf[[\"showalter\",\"lifted\",\"sweat\",\"precipitable\"]]\n",
    "actual_data.replace('',np.nan)"
   ]
  },
  {
   "cell_type": "code",
   "execution_count": 14,
   "metadata": {},
   "outputs": [],
   "source": [
    "df=actual_data.iloc[1:,]"
   ]
  },
  {
   "cell_type": "code",
   "execution_count": 15,
   "metadata": {},
   "outputs": [
    {
     "data": {
      "text/html": [
       "<div>\n",
       "<style scoped>\n",
       "    .dataframe tbody tr th:only-of-type {\n",
       "        vertical-align: middle;\n",
       "    }\n",
       "\n",
       "    .dataframe tbody tr th {\n",
       "        vertical-align: top;\n",
       "    }\n",
       "\n",
       "    .dataframe thead th {\n",
       "        text-align: right;\n",
       "    }\n",
       "</style>\n",
       "<table border=\"1\" class=\"dataframe\">\n",
       "  <thead>\n",
       "    <tr style=\"text-align: right;\">\n",
       "      <th></th>\n",
       "      <th>showalter</th>\n",
       "      <th>lifted</th>\n",
       "      <th>sweat</th>\n",
       "      <th>precipitable</th>\n",
       "    </tr>\n",
       "  </thead>\n",
       "  <tbody>\n",
       "    <tr>\n",
       "      <th>1</th>\n",
       "      <td>5.79</td>\n",
       "      <td>8.43</td>\n",
       "      <td>105.21</td>\n",
       "      <td>16.44</td>\n",
       "    </tr>\n",
       "    <tr>\n",
       "      <th>2</th>\n",
       "      <td>0.75</td>\n",
       "      <td>1.49</td>\n",
       "      <td>154.21</td>\n",
       "      <td>21.42</td>\n",
       "    </tr>\n",
       "    <tr>\n",
       "      <th>3</th>\n",
       "      <td>3.26</td>\n",
       "      <td>5.82</td>\n",
       "      <td>155.39</td>\n",
       "      <td>17.10</td>\n",
       "    </tr>\n",
       "    <tr>\n",
       "      <th>4</th>\n",
       "      <td>6.02</td>\n",
       "      <td>3.61</td>\n",
       "      <td>259.81</td>\n",
       "      <td>56.65</td>\n",
       "    </tr>\n",
       "    <tr>\n",
       "      <th>5</th>\n",
       "      <td>4.35</td>\n",
       "      <td>0.94</td>\n",
       "      <td>242.59</td>\n",
       "      <td>64.68</td>\n",
       "    </tr>\n",
       "  </tbody>\n",
       "</table>\n",
       "</div>"
      ],
      "text/plain": [
       "   showalter  lifted   sweat  precipitable\n",
       "1       5.79    8.43  105.21         16.44\n",
       "2       0.75    1.49  154.21         21.42\n",
       "3       3.26    5.82  155.39         17.10\n",
       "4       6.02    3.61  259.81         56.65\n",
       "5       4.35    0.94  242.59         64.68"
      ]
     },
     "execution_count": 15,
     "metadata": {},
     "output_type": "execute_result"
    }
   ],
   "source": [
    "df.head()"
   ]
  },
  {
   "cell_type": "code",
   "execution_count": 16,
   "metadata": {},
   "outputs": [
    {
     "name": "stdout",
     "output_type": "stream",
     "text": [
      "showalter\n",
      "False    18939\n",
      "True      2524\n",
      "Name: showalter, dtype: int64\n",
      "\n",
      "lifted\n",
      "False    20826\n",
      "True       637\n",
      "Name: lifted, dtype: int64\n",
      "\n",
      "sweat\n",
      "False    13956\n",
      "True      7507\n",
      "Name: sweat, dtype: int64\n",
      "\n",
      "precipitable\n",
      "False    21386\n",
      "True        77\n",
      "Name: precipitable, dtype: int64\n",
      "\n"
     ]
    }
   ],
   "source": [
    "missing_data=df.isnull()\n",
    "for column in missing_data.columns.values.tolist():\n",
    "        print(column)\n",
    "        print(missing_data[column].value_counts())\n",
    "        print(\"\")\n"
   ]
  },
  {
   "cell_type": "code",
   "execution_count": 17,
   "metadata": {},
   "outputs": [
    {
     "name": "stdout",
     "output_type": "stream",
     "text": [
      "::::::::::::::::::::::::|  Calculate mean's  |::::::::::::::::::::::::\n",
      "Shoalter_index =  4.330458313532933\n",
      "Lifted_index =  2.852996254681655\n",
      "SWEAT_index =  165.71410146173545\n",
      "Precipitable_index =  39.745300663985695\n"
     ]
    }
   ],
   "source": [
    "show_title(\"Calculate mean's\")\n",
    "avrg_Showalter_index=df[\"showalter\"].astype(\"float\").mean(axis=0)\n",
    "print(\"Shoalter_index = \",avrg_Showalter_index)\n",
    "\n",
    "\n",
    "avrg_Lifted_index=df[\"lifted\"].astype(\"float\").mean(axis=0)\n",
    "print(\"Lifted_index = \",avrg_Lifted_index)\n",
    "\n",
    "avrg_SWEAT_index=df[\"sweat\"].astype(\"float\").mean(axis=0)\n",
    "print(\"SWEAT_index = \",avrg_SWEAT_index)\n",
    "\n",
    "avrg_P_index=df[\"precipitable\"].astype(\"float\").mean(axis=0)\n",
    "print(\"Precipitable_index = \",avrg_P_index)"
   ]
  },
  {
   "cell_type": "code",
   "execution_count": 18,
   "metadata": {},
   "outputs": [],
   "source": [
    "#Replace NaN with mean of respective column\n",
    "df['showalter'].replace(np.nan,avrg_Showalter_index,inplace=True)\n",
    "df['lifted'].replace(np.nan,avrg_Lifted_index,inplace=True)\n",
    "df['sweat'].replace(np.nan,avrg_SWEAT_index,inplace=True)\n",
    "df['precipitable'].replace(np.nan,avrg_P_index,inplace=True)"
   ]
  },
  {
   "cell_type": "code",
   "execution_count": 19,
   "metadata": {},
   "outputs": [
    {
     "name": "stdout",
     "output_type": "stream",
     "text": [
      "showalter\n",
      "False    21463\n",
      "Name: showalter, dtype: int64\n",
      "\n",
      "lifted\n",
      "False    21463\n",
      "Name: lifted, dtype: int64\n",
      "\n",
      "sweat\n",
      "False    21463\n",
      "Name: sweat, dtype: int64\n",
      "\n",
      "precipitable\n",
      "False    21463\n",
      "Name: precipitable, dtype: int64\n",
      "\n"
     ]
    }
   ],
   "source": [
    "verify_data=df.isnull()\n",
    "for column in verify_data.columns.values.tolist():\n",
    "    print(column)\n",
    "    print(verify_data[column].value_counts())\n",
    "    print(\"\")"
   ]
  },
  {
   "cell_type": "code",
   "execution_count": 20,
   "metadata": {},
   "outputs": [
    {
     "name": "stdout",
     "output_type": "stream",
     "text": [
      "::::::::::::::::::::::::|  Corelation  |::::::::::::::::::::::::\n"
     ]
    },
    {
     "data": {
      "text/html": [
       "<div>\n",
       "<style scoped>\n",
       "    .dataframe tbody tr th:only-of-type {\n",
       "        vertical-align: middle;\n",
       "    }\n",
       "\n",
       "    .dataframe tbody tr th {\n",
       "        vertical-align: top;\n",
       "    }\n",
       "\n",
       "    .dataframe thead th {\n",
       "        text-align: right;\n",
       "    }\n",
       "</style>\n",
       "<table border=\"1\" class=\"dataframe\">\n",
       "  <thead>\n",
       "    <tr style=\"text-align: right;\">\n",
       "      <th></th>\n",
       "      <th>showalter</th>\n",
       "      <th>lifted</th>\n",
       "      <th>sweat</th>\n",
       "      <th>precipitable</th>\n",
       "    </tr>\n",
       "  </thead>\n",
       "  <tbody>\n",
       "    <tr>\n",
       "      <th>showalter</th>\n",
       "      <td>1.000000</td>\n",
       "      <td>0.581046</td>\n",
       "      <td>-0.622340</td>\n",
       "      <td>-0.035891</td>\n",
       "    </tr>\n",
       "    <tr>\n",
       "      <th>lifted</th>\n",
       "      <td>0.581046</td>\n",
       "      <td>1.000000</td>\n",
       "      <td>-0.447339</td>\n",
       "      <td>-0.047485</td>\n",
       "    </tr>\n",
       "    <tr>\n",
       "      <th>sweat</th>\n",
       "      <td>-0.622340</td>\n",
       "      <td>-0.447339</td>\n",
       "      <td>1.000000</td>\n",
       "      <td>0.022388</td>\n",
       "    </tr>\n",
       "    <tr>\n",
       "      <th>precipitable</th>\n",
       "      <td>-0.035891</td>\n",
       "      <td>-0.047485</td>\n",
       "      <td>0.022388</td>\n",
       "      <td>1.000000</td>\n",
       "    </tr>\n",
       "  </tbody>\n",
       "</table>\n",
       "</div>"
      ],
      "text/plain": [
       "              showalter    lifted     sweat  precipitable\n",
       "showalter      1.000000  0.581046 -0.622340     -0.035891\n",
       "lifted         0.581046  1.000000 -0.447339     -0.047485\n",
       "sweat         -0.622340 -0.447339  1.000000      0.022388\n",
       "precipitable  -0.035891 -0.047485  0.022388      1.000000"
      ]
     },
     "execution_count": 20,
     "metadata": {},
     "output_type": "execute_result"
    }
   ],
   "source": [
    "show_title(\"Corelation\")\n",
    "df[['showalter','lifted','sweat','precipitable']].corr()"
   ]
  },
  {
   "cell_type": "code",
   "execution_count": 26,
   "metadata": {},
   "outputs": [
    {
     "name": "stdout",
     "output_type": "stream",
     "text": [
      "::::::::::::::::::::::::|  Scatter for showalter,pricipitable  |::::::::::::::::::::::::\n"
     ]
    },
    {
     "data": {
      "image/png": "[encoded data removed]",
      "text/plain": [
       "<Figure size 432x288 with 1 Axes>"
      ]
     },
     "metadata": {},
     "output_type": "display_data"
    },
    {
     "name": "stdout",
     "output_type": "stream",
     "text": [
      "::::::::::::::::::::::::|  Scatter for showalter,lifted  |::::::::::::::::::::::::\n"
     ]
    },
    {
     "data": {
      "image/png": "[encoded data removed]",
      "text/plain": [
       "<Figure size 432x288 with 1 Axes>"
      ]
     },
     "metadata": {},
     "output_type": "display_data"
    },
    {
     "name": "stdout",
     "output_type": "stream",
     "text": [
      "::::::::::::::::::::::::|  Scatter for showalter,sweat  |::::::::::::::::::::::::\n"
     ]
    },
    {
     "data": {
      "image/png": "[encoded data removed]",
      "text/plain": [
       "<Figure size 432x288 with 1 Axes>"
      ]
     },
     "metadata": {},
     "output_type": "display_data"
    }
   ],
   "source": [
    "show_title(\"Scatter for showalter,pricipitable\")\n",
    "plt.style.use('ggplot')\n",
    "plt.scatter(df.showalter,df.precipitable,color='red')\n",
    "plt.xlabel(\"Showalter Index\")\n",
    "plt.ylabel(\"Precipitable water mm for entire sounding\")\n",
    "plt.show()\n",
    "show_title(\"Scatter for showalter,lifted\")\n",
    "plt.scatter(df.showalter,df.lifted,color='green')\n",
    "plt.ylabel(\"Lifted Index\")\n",
    "plt.xlabel(\"Showalter Index\")\n",
    "plt.show()\n",
    "show_title(\"Scatter for showalter,sweat\")\n",
    "plt.scatter(df.showalter,df.sweat,color='black')\n",
    "plt.ylabel(\"Lifted_index\")\n",
    "plt.xlabel(\"Showalter Index\")\n",
    "plt.show()"
   ]
  },
  {
   "cell_type": "code",
   "execution_count": 28,
   "metadata": {},
   "outputs": [
    {
     "name": "stdout",
     "output_type": "stream",
     "text": [
      "::::::::::::::::::::::::|  Scatter for lifted , sweat  |::::::::::::::::::::::::\n"
     ]
    },
    {
     "data": {
      "image/png": "[encoded data removed]",
      "text/plain": [
       "<Figure size 432x288 with 1 Axes>"
      ]
     },
     "metadata": {},
     "output_type": "display_data"
    }
   ],
   "source": [
    "show_title(\"Scatter for lifted , sweat\")\n",
    "plt.scatter(df.lifted,df.sweat,color='blue')\n",
    "plt.show()"
   ]
  },
  {
   "cell_type": "code",
   "execution_count": 29,
   "metadata": {},
   "outputs": [
    {
     "name": "stdout",
     "output_type": "stream",
     "text": [
      "::::::::::::::::::::::::|  histogram for all columns  |::::::::::::::::::::::::\n"
     ]
    },
    {
     "data": {
      "text/plain": [
       "array([[<matplotlib.axes._subplots.AxesSubplot object at 0x7f3716cdc890>,\n",
       "        <matplotlib.axes._subplots.AxesSubplot object at 0x7f3716bacf10>],\n",
       "       [<matplotlib.axes._subplots.AxesSubplot object at 0x7f3716bddbd0>,\n",
       "        <matplotlib.axes._subplots.AxesSubplot object at 0x7f3716b99f50>]],\n",
       "      dtype=object)"
      ]
     },
     "execution_count": 29,
     "metadata": {},
     "output_type": "execute_result"
    },
    {
     "data": {
      "image/png": "[encoded data removed]",
      "text/plain": [
       "<Figure size 432x288 with 4 Axes>"
      ]
     },
     "metadata": {},
     "output_type": "display_data"
    }
   ],
   "source": [
    "show_title(\"histogram for all columns\")\n",
    "viz=df[['showalter','lifted','sweat','precipitable']]\n",
    "viz.hist()\n"
   ]
  },
  {
   "cell_type": "code",
   "execution_count": 48,
   "metadata": {},
   "outputs": [
    {
     "data": {
      "image/png": "[encoded data removed]",
      "text/plain": [
       "<Figure size 728.8x720 with 20 Axes>"
      ]
     },
     "metadata": {},
     "output_type": "display_data"
    }
   ],
   "source": [
    "#for graphs\n",
    "import seaborn as sns # for making plots with seaborn\n",
    "color = sns.color_palette()\n",
    "sns.set(rc={'figure.figsize':(25,15)})\n",
    "x = df['showalter'].dropna()\n",
    "y = df['sweat'].dropna()\n",
    "t = df['lifted'].dropna()\n",
    "prcd = df['precipitable']\n",
    "dataSet = pd.DataFrame(list(zip(x, y, t, prcd)),columns=['Showalter', 'Sweat', 'Lifted', 'Precipitable'])\n",
    "\n",
    "p = sns.PairGrid(dataSet,hue=None,palette=\"Set1\",hue_kws={\"marker\":[\"o\",\"D\"]})\n",
    "p = p.map_diag(plt.hist,histtype=\"step\",linewidth=3)\n",
    "p = p.map_offdiag(plt.scatter,edgecolor='r',s=40,color='g')\n",
    "p = p.add_legend()"
   ]
  },
  {
   "cell_type": "code",
   "execution_count": 20,
   "metadata": {},
   "outputs": [],
   "source": [
    "msk=np.random.rand(len(df)) < 0.8"
   ]
  },
  {
   "cell_type": "code",
   "execution_count": 43,
   "metadata": {},
   "outputs": [],
   "source": [
    "train=df[msk]"
   ]
  },
  {
   "cell_type": "code",
   "execution_count": 44,
   "metadata": {},
   "outputs": [],
   "source": [
    "test=df[~msk]"
   ]
  },
  {
   "cell_type": "code",
   "execution_count": 77,
   "metadata": {},
   "outputs": [
    {
     "name": "stdout",
     "output_type": "stream",
     "text": [
      "::::::::::::::::::::::::|  Division of data set  |::::::::::::::::::::::::\n",
      "\t\t+--------------+---------------+\n",
      "\t\t| test set     |    (4273, 4)  |\n",
      "\t\t| train set    | +  (17190, 4) |\n",
      "\t\t+--------------+---------------+\n",
      "\t\t| Original set |   (21463, 4)  |\n",
      "\t\t+--------------+---------------+\n"
     ]
    }
   ],
   "source": [
    "show_title(\"Division of data set\")\n",
    "print(\"\\t\\t+--------------+---------------+\")\n",
    "print('\\t\\t| test set     |   ',test.shape,\" |\")\n",
    "print('\\t\\t| train set    | + ',train.shape,\"|\")\n",
    "print(\"\\t\\t+--------------+---------------+\")\n",
    "print('\\t\\t| Original set |  ',df.shape,\" |\")\n",
    "print(\"\\t\\t+--------------+---------------+\")"
   ]
  },
  {
   "cell_type": "code",
   "execution_count": 78,
   "metadata": {},
   "outputs": [
    {
     "data": {
      "text/html": [
       "<div>\n",
       "<style scoped>\n",
       "    .dataframe tbody tr th:only-of-type {\n",
       "        vertical-align: middle;\n",
       "    }\n",
       "\n",
       "    .dataframe tbody tr th {\n",
       "        vertical-align: top;\n",
       "    }\n",
       "\n",
       "    .dataframe thead th {\n",
       "        text-align: right;\n",
       "    }\n",
       "</style>\n",
       "<table border=\"1\" class=\"dataframe\">\n",
       "  <thead>\n",
       "    <tr style=\"text-align: right;\">\n",
       "      <th></th>\n",
       "      <th>showalter</th>\n",
       "      <th>lifted</th>\n",
       "      <th>sweat</th>\n",
       "      <th>precipitable</th>\n",
       "    </tr>\n",
       "  </thead>\n",
       "  <tbody>\n",
       "    <tr>\n",
       "      <th>7</th>\n",
       "      <td>-3.96</td>\n",
       "      <td>-5.70</td>\n",
       "      <td>242.20</td>\n",
       "      <td>67.19</td>\n",
       "    </tr>\n",
       "    <tr>\n",
       "      <th>8</th>\n",
       "      <td>-3.39</td>\n",
       "      <td>-4.71</td>\n",
       "      <td>247.40</td>\n",
       "      <td>51.11</td>\n",
       "    </tr>\n",
       "    <tr>\n",
       "      <th>11</th>\n",
       "      <td>1.87</td>\n",
       "      <td>-2.77</td>\n",
       "      <td>203.78</td>\n",
       "      <td>56.54</td>\n",
       "    </tr>\n",
       "    <tr>\n",
       "      <th>19</th>\n",
       "      <td>0.01</td>\n",
       "      <td>-1.86</td>\n",
       "      <td>242.99</td>\n",
       "      <td>66.93</td>\n",
       "    </tr>\n",
       "    <tr>\n",
       "      <th>22</th>\n",
       "      <td>2.95</td>\n",
       "      <td>-3.13</td>\n",
       "      <td>153.78</td>\n",
       "      <td>43.88</td>\n",
       "    </tr>\n",
       "  </tbody>\n",
       "</table>\n",
       "</div>"
      ],
      "text/plain": [
       "    showalter  lifted   sweat  precipitable\n",
       "7       -3.96   -5.70  242.20         67.19\n",
       "8       -3.39   -4.71  247.40         51.11\n",
       "11       1.87   -2.77  203.78         56.54\n",
       "19       0.01   -1.86  242.99         66.93\n",
       "22       2.95   -3.13  153.78         43.88"
      ]
     },
     "execution_count": 78,
     "metadata": {},
     "output_type": "execute_result"
    }
   ],
   "source": [
    "test.head()"
   ]
  },
  {
   "cell_type": "code",
   "execution_count": 79,
   "metadata": {},
   "outputs": [],
   "source": [
    "Xtrain=train[['showalter']]\n",
    "Ytrain=train[['lifted']]"
   ]
  },
  {
   "cell_type": "code",
   "execution_count": 80,
   "metadata": {},
   "outputs": [],
   "source": [
    "Xtest=test[['showalter']]\n",
    "Ytest=test[['lifted']]"
   ]
  },
  {
   "cell_type": "code",
   "execution_count": 81,
   "metadata": {},
   "outputs": [
    {
     "name": "stdout",
     "output_type": "stream",
     "text": [
      "::::::::::::::::::::::::|  records in train and test  |::::::::::::::::::::::::\n",
      "total records in Xtrain ::  (17190, 1)\n",
      "total records in Xtest ::  (4273, 1)\n"
     ]
    }
   ],
   "source": [
    "show_title(\"records in train and test\")\n",
    "print(\"total records in Xtrain :: \",Xtrain.shape)\n",
    "print(\"total records in Xtest :: \",Xtest.shape)"
   ]
  },
  {
   "cell_type": "code",
   "execution_count": 82,
   "metadata": {},
   "outputs": [],
   "source": [
    "from sklearn import linear_model"
   ]
  },
  {
   "cell_type": "code",
   "execution_count": 83,
   "metadata": {},
   "outputs": [],
   "source": [
    "regr=linear_model.LinearRegression()"
   ]
  },
  {
   "cell_type": "code",
   "execution_count": 84,
   "metadata": {},
   "outputs": [],
   "source": [
    "X=np.asanyarray(Xtrain)"
   ]
  },
  {
   "cell_type": "code",
   "execution_count": 85,
   "metadata": {},
   "outputs": [],
   "source": [
    "Y=np.asanyarray(Ytrain)"
   ]
  },
  {
   "cell_type": "code",
   "execution_count": 97,
   "metadata": {},
   "outputs": [
    {
     "name": "stdout",
     "output_type": "stream",
     "text": [
      "::::::::::::::::::::::::|  simple linear Regression Model Implemented  |::::::::::::::::::::::::\n"
     ]
    },
    {
     "data": {
      "text/plain": [
       "LinearRegression(copy_X=True, fit_intercept=True, n_jobs=None, normalize=False)"
      ]
     },
     "execution_count": 97,
     "metadata": {},
     "output_type": "execute_result"
    }
   ],
   "source": [
    "show_title(\"simple linear Regression Model Implemented\")\n",
    "regr.fit(X,Y)"
   ]
  },
  {
   "cell_type": "code",
   "execution_count": 87,
   "metadata": {},
   "outputs": [],
   "source": [
    "coef1=regr.coef_"
   ]
  },
  {
   "cell_type": "code",
   "execution_count": 88,
   "metadata": {},
   "outputs": [],
   "source": [
    "intr1=regr.intercept_"
   ]
  },
  {
   "cell_type": "code",
   "execution_count": 89,
   "metadata": {},
   "outputs": [
    {
     "name": "stdout",
     "output_type": "stream",
     "text": [
      "::::::::::::::::::::::::|  linear regression model features  |::::::::::::::::::::::::\n",
      "Coefficients :  [[0.69145819]]\n",
      "Intercept :  [-0.19187235]\n"
     ]
    }
   ],
   "source": [
    "show_title(\"linear regression model features\")\n",
    "print('Coefficients : ',coef1)\n",
    "print('Intercept : ',intr1)"
   ]
  },
  {
   "cell_type": "code",
   "execution_count": 90,
   "metadata": {},
   "outputs": [
    {
     "name": "stdout",
     "output_type": "stream",
     "text": [
      "::::::::::::::::::::::::|  scatter for Xtrain and Ytrain  |::::::::::::::::::::::::\n"
     ]
    },
    {
     "data": {
      "text/plain": [
       "<matplotlib.collections.PathCollection at 0x7f37108decd0>"
      ]
     },
     "execution_count": 90,
     "metadata": {},
     "output_type": "execute_result"
    },
    {
     "data": {
      "image/png": "[encoded data removed]",
      "text/plain": [
       "<Figure size 432x288 with 1 Axes>"
      ]
     },
     "metadata": {},
     "output_type": "display_data"
    }
   ],
   "source": [
    "show_title(\"scatter for Xtrain and Ytrain\")\n",
    "plt.scatter(Xtrain,Ytrain,color='red')"
   ]
  },
  {
   "cell_type": "code",
   "execution_count": 91,
   "metadata": {},
   "outputs": [
    {
     "name": "stdout",
     "output_type": "stream",
     "text": [
      "::::::::::::::::::::::::|  line-plot of model  |::::::::::::::::::::::::\n"
     ]
    },
    {
     "data": {
      "text/plain": [
       "[<matplotlib.lines.Line2D at 0x7f3710d22690>]"
      ]
     },
     "execution_count": 91,
     "metadata": {},
     "output_type": "execute_result"
    },
    {
     "data": {
      "image/png": "[encoded data removed]",
      "text/plain": [
       "<Figure size 432x288 with 1 Axes>"
      ]
     },
     "metadata": {},
     "output_type": "display_data"
    }
   ],
   "source": [
    "show_title(\"line-plot of model\")\n",
    "plt.plot(Xtrain,regr.coef_[0][0] * Xtrain + regr.intercept_[0],'-r')\n"
   ]
  },
  {
   "cell_type": "code",
   "execution_count": 92,
   "metadata": {},
   "outputs": [],
   "source": [
    "Yhat=regr.predict(Xtest)"
   ]
  },
  {
   "cell_type": "code",
   "execution_count": 98,
   "metadata": {},
   "outputs": [
    {
     "name": "stdout",
     "output_type": "stream",
     "text": [
      "::::::::::::::::::::::::|  Mean Absolute Error  |::::::::::::::::::::::::\n",
      "MAE :: 4.313437\n"
     ]
    }
   ],
   "source": [
    "show_title(\"Mean Absolute Error\")\n",
    "mae=np.mean(np.absolute(Yhat-Ytest))\n",
    "print(\"MAE :: %2f\"% np.mean(np.absolute(Yhat-Ytest)))"
   ]
  },
  {
   "cell_type": "code",
   "execution_count": 101,
   "metadata": {},
   "outputs": [
    {
     "name": "stdout",
     "output_type": "stream",
     "text": [
      "Residual Sum Of Sqaures :: 59.703958\n"
     ]
    }
   ],
   "source": [
    "print(\"Residual Sum Of Sqaures :: %2f\"% np.mean((Yhat-Ytest)**2))\n",
    "rss=np.mean((Yhat-Ytest)**2)"
   ]
  },
  {
   "cell_type": "code",
   "execution_count": 108,
   "metadata": {},
   "outputs": [
    {
     "name": "stdout",
     "output_type": "stream",
     "text": [
      "-> by using simple linear regression model\n",
      "-> we can say that showalter_index and lifted_index will predict independent variable. \n",
      "-> because mean absolute error : 4.313437 is minimun and \n",
      "-> Residual sum of sqaure is : 59.703958 which is also minimum\n",
      "-> now, Let's use multiple linear regression model\n"
     ]
    }
   ],
   "source": [
    "print(\"-> by using simple linear regression model\\n-> we can say that showalter_index and lifted_index will predict independent variable. \\n-> because mean absolute error : %2f is minimun and \\n-> Residual sum of sqaure is : %2f which is also minimum\"%(mae,rss))\n"
   ]
  },
  {
   "cell_type": "code",
   "execution_count": 113,
   "metadata": {},
   "outputs": [
    {
     "name": "stdout",
     "output_type": "stream",
     "text": [
      "-> now, Let's use multiple linear regression model\n",
      "::::::::::::::::::::::::|  Multiple Linear Regression  |::::::::::::::::::::::::\n",
      "we have already cleared dataset so we direct start with Model\n"
     ]
    }
   ],
   "source": [
    "from time import sleep\n",
    "sleep(10)\n",
    "print(\"-> now, Let's use multiple linear regression model\")\n",
    "sleep(3)\n",
    "show_title(\"Multiple Linear Regression\")\n",
    "sleep(3)\n",
    "print(\"we have already cleared dataset so we direct start with Model\")"
   ]
  },
  {
   "cell_type": "code",
   "execution_count": 76,
   "metadata": {},
   "outputs": [
    {
     "name": "stdout",
     "output_type": "stream",
     "text": [
      "::::::::::::::::::::::::|  Division of data set  |::::::::::::::::::::::::\n",
      "\t\t+--------------+---------------+\n",
      "\t\t| test set     |    (4273, 4)  |\n",
      "\t\t| train set    | +  (17190, 4) |\n",
      "\t\t+--------------+---------------+\n",
      "\t\t| Original set |   (21463, 4)  |\n",
      "\t\t+--------------+---------------+\n"
     ]
    }
   ],
   "source": [
    "show_title(\"Division of data set\")\n",
    "print(\"\\t\\t+--------------+---------------+\")\n",
    "print('\\t\\t| test set     |   ',test.shape,\" |\")\n",
    "print('\\t\\t| train set    | + ',train.shape,\"|\")\n",
    "print(\"\\t\\t+--------------+---------------+\")\n",
    "print('\\t\\t| Original set |  ',df.shape,\" |\")\n",
    "print(\"\\t\\t+--------------+---------------+\")\n"
   ]
  },
  {
   "cell_type": "code",
   "execution_count": 96,
   "metadata": {},
   "outputs": [
    {
     "data": {
      "text/plain": [
       "4273"
      ]
     },
     "execution_count": 96,
     "metadata": {},
     "output_type": "execute_result"
    }
   ],
   "source": [
    "21463-17190"
   ]
  },
  {
   "cell_type": "code",
   "execution_count": 115,
   "metadata": {},
   "outputs": [
    {
     "name": "stdout",
     "output_type": "stream",
     "text": [
      "::::::::::::::::::::::::|  X train set  |::::::::::::::::::::::::\n",
      "->independent variables as we check above \n",
      "\tshowalter_index : showlater\n",
      "\tllifted_index   : lifted\n"
     ]
    }
   ],
   "source": [
    "show_title(\"X train set\")\n",
    "print(\"->independent variables as we check above \\n\\tshowalter_index : showlater\\n\\tllifted_index   : lifted\")\n",
    "Xtrain=train[['showalter','lifted']]"
   ]
  },
  {
   "cell_type": "code",
   "execution_count": 222,
   "metadata": {},
   "outputs": [
    {
     "name": "stdout",
     "output_type": "stream",
     "text": [
      "::::::::::::::::::::::::|  Y Train set  |::::::::::::::::::::::::\n",
      "->Dependent variable : Precipitable_water_mm_for_entire_sounding\n"
     ]
    }
   ],
   "source": [
    "show_title(\"Y Train set\")\n",
    "print(\"->Dependent variable : Precipitable_water_mm_for_entire_sounding\")\n",
    "Ytrain=train[['precipitable']]\n"
   ]
  },
  {
   "cell_type": "code",
   "execution_count": 223,
   "metadata": {},
   "outputs": [
    {
     "data": {
      "text/plain": [
       "LinearRegression(copy_X=True, fit_intercept=True, n_jobs=None, normalize=False)"
      ]
     },
     "execution_count": 223,
     "metadata": {},
     "output_type": "execute_result"
    }
   ],
   "source": [
    "from sklearn import linear_model\n",
    "multi_regr=linear_model.LinearRegression()\n",
    "X=np.asanyarray(Xtrain)\n",
    "Y=np.asanyarray(Ytrain)\n",
    "    # now, let's fit the model\n",
    "multi_regr.fit(X,Y)"
   ]
  },
  {
   "cell_type": "code",
   "execution_count": 224,
   "metadata": {},
   "outputs": [],
   "source": [
    "coef1=multi_regr.coef_\n",
    "intr1=multi_regr.intercept_"
   ]
  },
  {
   "cell_type": "code",
   "execution_count": 153,
   "metadata": {},
   "outputs": [],
   "source": [
    "Xtest=test[['showalter','lifted']]\n",
    "Ytest=test[['precipitable']]"
   ]
  },
  {
   "cell_type": "code",
   "execution_count": 225,
   "metadata": {},
   "outputs": [
    {
     "name": "stdout",
     "output_type": "stream",
     "text": [
      "\tModel 1: \n",
      "\t:::Independent variables:::\n",
      "1) showalter_index\n",
      "2) lifted_index\n",
      "\t::: Dependent variable :::\n",
      "Precipitable_water_mm_for_entire_sounding\n",
      "\n",
      "::::::::::::::::::::::::|  Model Features  |::::::::::::::::::::::::\n",
      "Coefficients :  [[-0.58741102 -1.01572888 -0.01838875]]\n",
      "Intercept :  [48.98194786]\n",
      "Mean Absolute Error             (MAE) : 22.82 \n",
      "Residual Sum Of Sqaures Error. (RMSE) : 31066.82\n"
     ]
    }
   ],
   "source": [
    "print(\"\\tModel 1: \\n\\t:::Independent variables:::\\n1) showalter_index\\n2) lifted_index\\n\\t::: Dependent variable :::\\nPrecipitable_water_mm_for_entire_sounding\")\n",
    "sleep(2)\n",
    "\n",
    "Yhat=multi_regr.predict(Xtest)\n",
    "MAE1=np.mean(np.absolute(Yhat-Ytest))\n",
    "RMSE1=np.mean((Yhat-Ytest)**2)\n",
    "print(\"\")\n",
    "show_title(\"Model Features\")\n",
    "print('Coefficients : ',coef1)\n",
    "print('Intercept : ',intr1)\n",
    "print(\"Mean Absolute Error             (MAE) : %.2f \"% MAE1)\n",
    "print('Residual Sum Of Sqaures Error. (RMSE) : %.2f'% MSE1)"
   ]
  },
  {
   "cell_type": "code",
   "execution_count": 229,
   "metadata": {},
   "outputs": [
    {
     "name": "stdout",
     "output_type": "stream",
     "text": [
      "\tModel 2: \n",
      "\t:::Independent variables:::\n",
      "1) showalter_index\n",
      "2) lifted_index\n",
      "3) sweat_index\n",
      "\t::: Dependent variable :::\n",
      "Precipitable_water_mm_for_entire_sounding\n",
      "\n",
      "::::::::::::::::::::::::|  Model Features  |::::::::::::::::::::::::\n",
      "Coefficients :  [[-0.58741102 -1.01572888 -0.01838875]]\n",
      "Intercept :  [48.98194786]\n",
      "Mean Absolute Error             (MAE) : 22.82 \n",
      "Residual Sum Of Sqaures Error. (RMSE) : 31066.82\n"
     ]
    }
   ],
   "source": [
    "print(\"\\tModel 2: \\n\\t:::Independent variables:::\\n1) showalter_index\\n2) lifted_index\\n3) sweat_index\\n\\t::: Dependent variable :::\\nPrecipitable_water_mm_for_entire_sounding\")\n",
    "Xtrain=train[['showalter','lifted','sweat']]\n",
    "Ytrain=train[['precipitable']]\n",
    "from sklearn import linear_model\n",
    "multi_regr1=linear_model.LinearRegression()\n",
    "X=np.asanyarray(Xtrain)\n",
    "Y=np.asanyarray(Ytrain)\n",
    "    # now, let's fit the model\n",
    "multi_regr.fit(X,Y)\n",
    "coef1=multi_regr.coef_\n",
    "intr1=multi_regr.intercept_\n",
    "sleep(2)\n",
    "print(\"\")\n",
    "show_title(\"Model Features\")\n",
    "print('Coefficients : ',coef1)\n",
    "print('Intercept : ',intr1)\n",
    "Xtest=test[['showalter','lifted','sweat']]\n",
    "Ytest=test[['precipitable']]\n",
    "Yhat=multi_regr.predict(Xtest)\n",
    "MAE2=np.mean(np.absolute(Yhat-Ytest))\n",
    "RMSE2=np.mean((Yhat-Ytest)**2)\n",
    "print(\"Mean Absolute Error             (MAE) : %.2f \"% MAE2)\n",
    "print('Residual Sum Of Sqaures Error. (RMSE) : %.2f'% MSE2)"
   ]
  },
  {
   "cell_type": "code",
   "execution_count": 230,
   "metadata": {},
   "outputs": [
    {
     "name": "stdout",
     "output_type": "stream",
     "text": [
      "::::::::::::::::::::::::|  Summary  |::::::::::::::::::::::::\n",
      "+------------+---------------------------------+-------------------------------- +\n",
      "|            |      MODEL :1                   |          MODEL : 2              |\n",
      "+------------+---------------------------------+---------------------------------+\n",
      "|Feature Sets| 1) Showalter_index as showalter | 1) Showalter_index as showalter |\n",
      "|(indirect   | 2) Lifted_index as lifted       | 2) Lifted_index as lifted       |\n",
      "| Variables) |                                 | 3) SWEAT_index as sweat         |\n",
      "+------------+---------------------------------+---------------------------------+\n",
      "| MAE        |       22.822648                 |       22.822648                 |\n",
      "+------------+---------------------------------+---------------------------------+\n",
      "| RMSE       |       31066.816559              |       31066.816559              |\n",
      "+------------+---------------------------------+---------------------------------+\n"
     ]
    }
   ],
   "source": [
    "show_title(\"Summary\")\n",
    "print(\"+------------+---------------------------------+-------------------------------- +\")\n",
    "print(\"|            |      MODEL :1                   |          MODEL : 2              |\")\n",
    "print(\"+------------+---------------------------------+---------------------------------+\")\n",
    "print(\"|Feature Sets| 1) Showalter_index as showalter | 1) Showalter_index as showalter |\")\n",
    "print(\"|(indirect   | 2) Lifted_index as lifted       | 2) Lifted_index as lifted       |\")\n",
    "print(\"| Variables) |                                 | 3) SWEAT_index as sweat         |\")\n",
    "print(\"+------------+---------------------------------+---------------------------------+\")\n",
    "print(\"| MAE        |       %f                 |       %f                 |\"%(MAE1,MAE2))\n",
    "print(\"+------------+---------------------------------+---------------------------------+\")\n",
    "print(\"| RMSE       |       %f              |       %f              |\"%(RMSE1,RMSE2))\n",
    "print(\"+------------+---------------------------------+---------------------------------+\")"
   ]
  },
  {
   "cell_type": "code",
   "execution_count": 235,
   "metadata": {},
   "outputs": [
    {
     "name": "stdout",
     "output_type": "stream",
     "text": [
      "::::::::::::::::::::::::|  Conclusion  |::::::::::::::::::::::::\n",
      "\n",
      "-> In dataset Showalter_index and Lifted_index shows the linear relation\n",
      "   so we have used those variables as independent or we can say indirect.\n",
      "\n",
      "-> Residual Mean Sqaure Error (RMSE) is same in both the models.\n",
      "   also, Mean Absolute Error (MAE) is same in both the models.\n",
      "\n",
      "-> Hence performance of Model-1 and model-2 is comparatively same.\n"
     ]
    }
   ],
   "source": [
    "show_title(\"Conclusion\")\n",
    "print(\"\\n-> In dataset Showalter_index and Lifted_index shows the linear relation\\n   so we have used those variables as independent or we can say indirect.\")\n",
    "print(\"\\n-> Residual Mean Sqaure Error (RMSE) is same in both the models.\")\n",
    "print(\"   also, Mean Absolute Error (MAE) is same in both the models.\")\n",
    "print(\"\\n-> Hence performance of Model-1 and model-2 is comparatively same.\")"
   ]
  },
  {
   "cell_type": "code",
   "execution_count": null,
   "metadata": {},
   "outputs": [],
   "source": []
  }
 ],
 "metadata": {
  "kernelspec": {
   "display_name": "Python 3",
   "language": "python",
   "name": "python3"
  },
  "language_info": {
   "codemirror_mode": {
    "name": "ipython",
    "version": 3
   },
   "file_extension": ".py",
   "mimetype": "text/x-python",
   "name": "python",
   "nbconvert_exporter": "python",
   "pygments_lexer": "ipython3",
   "version": "3.7.6"
  }
 },
 "nbformat": 4,
 "nbformat_minor": 4
}
